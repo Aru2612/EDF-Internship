{
 "cells": [
  {
   "cell_type": "code",
   "execution_count": null,
   "metadata": {},
   "outputs": [],
   "source": [
    "import numpy as np\n",
    "import matplotlib.pyplot as plt\n",
    "import pandas as pd\n",
    "import textwrap\n",
    "\n",
    "df = pd.read_csv('C:\\\\Users\\\\arund\\\\Desktop\\\\Academic\\\\Internships\\\\EDF\\\\Task 1\\\\Billing (All).csv',skiprows=1,names=['Channel','Number of complaints'])\n",
    "column_headers=df.columns.values.tolist()\n",
    "X_ticks=df[column_headers[0]].values.tolist()\n",
    "X_ticks=[textwrap.fill(text,21) for text in X_ticks]\n",
    "Y=df[column_headers[1]].values.tolist()\n",
    "\n",
    "bar_width = 0.3\n",
    "index = np.arange(len(X_ticks))/1.4\n",
    "\n",
    "fig,ax=plt.subplots()\n",
    "\n",
    "plt.bar(index,Y,bar_width,color='b', alpha=0.6)\n",
    "for i in range(len(Y)):\n",
    "    plt.text(index[i], Y[i] + 0.05, Y[i], ha='center', va= 'bottom',fontsize=8,fontweight='bold')\n",
    "ax.set_title('Category - Billing',fontsize=14,fontweight='bold')\n",
    "ax.set_xlabel('Channels',fontsize=12,fontweight='bold')\n",
    "ax.set_ylabel('Number of Complaints',fontsize=12,fontweight='bold')\n",
    "plt.xticks(rotation='vertical',ha='center',va='top')\n",
    "ax.set_xticks(index)\n",
    "ax.set_xticklabels(X_ticks,fontsize=9)\n",
    "fig.tight_layout()\n",
    "plt.show()"
   ]
  }
 ],
 "metadata": {
  "kernelspec": {
   "display_name": "Python 3",
   "language": "python",
   "name": "python3"
  },
  "language_info": {
   "codemirror_mode": {
    "name": "ipython",
    "version": 3
   },
   "file_extension": ".py",
   "mimetype": "text/x-python",
   "name": "python",
   "nbconvert_exporter": "python",
   "pygments_lexer": "ipython3",
   "version": "3.7.0"
  }
 },
 "nbformat": 4,
 "nbformat_minor": 2
}
