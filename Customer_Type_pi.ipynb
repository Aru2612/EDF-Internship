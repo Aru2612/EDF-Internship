{
 "cells": [
  {
   "cell_type": "code",
   "execution_count": null,
   "metadata": {},
   "outputs": [],
   "source": [
    "import numpy as np\n",
    "import matplotlib.pyplot as plt\n",
    "import textwrap\n",
    "\n",
    "fig, ax = plt.subplots(figsize=(6,6), subplot_kw=dict(aspect=\"equal\"))\n",
    "colors=['navy','g','tab:orange']\n",
    "labels=['Residential','SME','<Unknown>']\n",
    "labels=[textwrap.fill(text,16) for text in labels]\n",
    "data=['1004067','26','127599']\n",
    "\n",
    "wedges,texts,autotexts=ax.pie(data, labels=labels,labeldistance=0.7,textprops={'fontsize':'10','weight':'bold','ha':'center','va':'bottom','color':'w'}, autopct='%1.1f%%', shadow=True, startangle=90,colors=colors)\n",
    "plt.setp(autotexts, size=10,weight=\"bold\", color='w')\n",
    "plt.setp(autotexts, size=10,weight=\"bold\", color='w')\n",
    "for w in wedges:\n",
    "    w.set_linewidth(0.1)\n",
    "    w.set_edgecolor('k')\n",
    "\n",
    "ax.set_title(\"Customer Types\",fontsize=16)\n",
    "plt.show()\n"
   ]
  }
 ],
 "metadata": {
  "kernelspec": {
   "display_name": "Python 3",
   "language": "python",
   "name": "python3"
  },
  "language_info": {
   "codemirror_mode": {
    "name": "ipython",
    "version": 3
   },
   "file_extension": ".py",
   "mimetype": "text/x-python",
   "name": "python",
   "nbconvert_exporter": "python",
   "pygments_lexer": "ipython3",
   "version": "3.7.0"
  }
 },
 "nbformat": 4,
 "nbformat_minor": 2
}
