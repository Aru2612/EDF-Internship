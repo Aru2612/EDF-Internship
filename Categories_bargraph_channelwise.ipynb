{
 "cells": [
  {
   "cell_type": "code",
   "execution_count": null,
   "metadata": {},
   "outputs": [],
   "source": [
    "import numpy as np\n",
    "import pandas as pd\n",
    "import matplotlib.pyplot as plt\n",
    "import textwrap\n",
    "\n",
    "import warnings\n",
    "warnings.filterwarnings(\"ignore\")"
   ]
  },
  {
   "cell_type": "code",
   "execution_count": null,
   "metadata": {},
   "outputs": [],
   "source": [
    "df = pd.read_csv('C:\\\\Users\\\\arund\\\\Desktop\\\\Academic\\\\Internships\\\\EDF\\\\Task 1\\\\Billing - Channelwise.csv',encoding='utf-8')\n",
    "column_headers=df.columns.values.tolist()\n",
    "#sorted_df=df.sort_values(by=[column_headers[1]], ascending=False)\n",
    "#print(sorted_df)"
   ]
  },
  {
   "cell_type": "code",
   "execution_count": null,
   "metadata": {},
   "outputs": [],
   "source": [
    "X_ticks=df[column_headers[0]].values.tolist()\n",
    "X_ticks=[textwrap.fill(text,13) for text in X_ticks]"
   ]
  },
  {
   "cell_type": "code",
   "execution_count": null,
   "metadata": {},
   "outputs": [],
   "source": [
    "Y1=df[column_headers[1]].values.tolist()\n",
    "Y2=df[column_headers[2]].values.tolist()\n",
    "Y3=df[column_headers[3]].values.tolist()\n",
    "Y4=df[column_headers[4]].values.tolist()\n",
    "Y5=df[column_headers[5]].values.tolist()"
   ]
  },
  {
   "cell_type": "code",
   "execution_count": null,
   "metadata": {},
   "outputs": [],
   "source": [
    "bar_width = 0.3\n",
    "\n",
    "index1 = np.arange(0,len(X_ticks))*1.7\n",
    "index2=index1+bar_width\n",
    "index3=index2+bar_width\n",
    "index4=index3+bar_width\n",
    "index5=index4+bar_width\n",
    "\n",
    "fig,ax=plt.subplots(tight_layout=True, figsize=(14, 6))\n",
    "\n",
    "plt.bar(index1,Y1,bar_width,color='#8B1A1A',label='Telephone Call')\n",
    "plt.bar(index2,Y2,bar_width,color='#104E8B',label='WEB')\n",
    "plt.bar(index3,Y3,bar_width,color='#006400',label='E-Mail')\n",
    "plt.bar(index4,Y4,bar_width,color='#FFA500',label='Letter')\n",
    "plt.bar(index5,Y5,bar_width,color='#555555',label='Others')\n",
    "\n",
    "for i in range(len(Y1)):\n",
    "    plt.text(index1[i], Y1[i] + 0.05, Y1[i], ha='center', va= 'bottom',fontsize=6,fontweight='bold')\n",
    "for i in range(len(Y2)):\n",
    "    plt.text(index2[i], Y2[i] + 0.05, Y2[i], ha='center', va= 'bottom',fontsize=6,fontweight='bold')\n",
    "for i in range(len(Y3)):\n",
    "    plt.text(index3[i], Y3[i] + 0.05, Y3[i], ha='center', va= 'bottom',fontsize=6,fontweight='bold')\n",
    "for i in range(len(Y4)):\n",
    "    plt.text(index4[i], Y4[i] + 0.05, Y4[i], ha='center', va= 'bottom',fontsize=6,fontweight='bold')\n",
    "for i in range(len(Y5)):\n",
    "    plt.text(index5[i], Y5[i] + 0.05, Y5[i], ha='center', va= 'bottom',fontsize=6,fontweight='bold')\n",
    "\n",
    "ax.set_title('Comparison of number of complaints received for each sub-category(Channelwise)',fontsize=12,fontweight='bold')\n",
    "ax.set_xlabel('Sub-categories',fontsize=12,fontweight='bold')\n",
    "ax.set_ylabel('Number of Complaints',fontsize=12,fontweight='bold')\n",
    "plt.xticks(rotation='vertical',ha='center',va='top')\n",
    "ax.set_xticks(index3)\n",
    "ax.set_xticklabels(X_ticks,fontsize=8)\n",
    "ax.legend()\n",
    "fig.tight_layout()\n",
    "plt.show()"
   ]
  }
 ],
 "metadata": {
  "kernelspec": {
   "display_name": "Python 3",
   "language": "python",
   "name": "python3"
  },
  "language_info": {
   "codemirror_mode": {
    "name": "ipython",
    "version": 3
   },
   "file_extension": ".py",
   "mimetype": "text/x-python",
   "name": "python",
   "nbconvert_exporter": "python",
   "pygments_lexer": "ipython3",
   "version": "3.7.1"
  }
 },
 "nbformat": 4,
 "nbformat_minor": 2
}
