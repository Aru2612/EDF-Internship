{
 "cells": [
  {
   "cell_type": "code",
   "execution_count": null,
   "metadata": {},
   "outputs": [],
   "source": [
    "import numpy as np\n",
    "import pandas as pd\n",
    "import matplotlib.pyplot as plt\n",
    "import textwrap\n",
    "\n",
    "import warnings \n",
    "warnings.filterwarnings(\"ignore\")"
   ]
  },
  {
   "cell_type": "code",
   "execution_count": null,
   "metadata": {},
   "outputs": [],
   "source": [
    "df = pd.read_csv('C:\\\\Users\\\\arund\\\\Desktop\\\\Academic\\\\Internships\\\\EDF\\\\Task 1\\\\Categories_pi.csv',skiprows=1,names=['Channel','Number of complaints'])\n",
    "column_headers=df.columns.values.tolist()\n",
    "data=df[column_headers[1]].values.tolist()"
   ]
  },
  {
   "cell_type": "code",
   "execution_count": null,
   "metadata": {},
   "outputs": [],
   "source": [
    "Channels=df[column_headers[0]].values.tolist()\n",
    "Channels=[textwrap.fill(text,35) for text in Channels]"
   ]
  },
  {
   "cell_type": "code",
   "execution_count": null,
   "metadata": {},
   "outputs": [],
   "source": [
    "fig, ax = plt.subplots(figsize=(7,4), subplot_kw=dict(aspect=\"equal\"))\n",
    "\n",
    "#labels=\"%.1f%%\".format([i/sum(data)*100 for i in data])\n",
    "\n",
    "\n",
    "wedges, texts, autotexts = ax.pie(data, autopct='%1.1f%%',pctdistance=0.8,shadow=True, startangle=90)\n",
    "ax.legend(wedges, Channels,\n",
    "          title=\"Categories\",\n",
    "          loc=\"center left\",\n",
    "          bbox_to_anchor=(1, 0, 0.5, 1))\n",
    "\n",
    "plt.setp(autotexts, size=6, weight=\"bold\",color='w')\n",
    "\n",
    "ax.set_title(\"Number of complaints received under each category from dunned customers\")\n",
    "\n",
    "plt.show()"
   ]
  }
 ],
 "metadata": {
  "kernelspec": {
   "display_name": "Python 3",
   "language": "python",
   "name": "python3"
  },
  "language_info": {
   "codemirror_mode": {
    "name": "ipython",
    "version": 3
   },
   "file_extension": ".py",
   "mimetype": "text/x-python",
   "name": "python",
   "nbconvert_exporter": "python",
   "pygments_lexer": "ipython3",
   "version": "3.7.1"
  }
 },
 "nbformat": 4,
 "nbformat_minor": 2
}
