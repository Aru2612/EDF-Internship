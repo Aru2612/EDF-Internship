{
 "cells": [
  {
   "cell_type": "code",
   "execution_count": null,
   "metadata": {},
   "outputs": [],
   "source": [
    "import numpy as np\n",
    "import pandas as pd\n",
    "import matplotlib.pyplot as plt\n",
    "import textwrap\n",
    "\n",
    "import warnings \n",
    "warnings.filterwarnings(\"ignore\")"
   ]
  },
  {
   "cell_type": "code",
   "execution_count": null,
   "metadata": {},
   "outputs": [],
   "source": [
    "bar_height = 0.5\n",
    "\n",
    "df = pd.read_csv('C:\\\\Users\\\\arund\\\\Desktop\\\\Academic\\\\Internships\\\\EDF\\\\Task 1\\\\Complaints_Debt - Horizontal categories graph(Useful-Ex).csv',skiprows=1,names=['Category','YT1','YT2','YTC1','YTC2','YDC1','YDC2','YCDC1','YCDC2'])\n",
    "column_headers=df.columns.values.tolist()\n",
    "sorted_df=df.sort_values(by=[column_headers[1]])\n",
    "\n",
    "Y_ticks=sorted_df[column_headers[0]].values.tolist()\n",
    "XTy=sorted_df[column_headers[1]].values.tolist()\n",
    "XTn=sorted_df[column_headers[2]].values.tolist()\n",
    "XDCy=sorted_df[column_headers[5]].values.tolist()\n",
    "XDCn=sorted_df[column_headers[6]].values.tolist()\n",
    "\n",
    "index1 = np.arange(len(Y_ticks))*1.2\n",
    "index2=index1+bar_height\n",
    "\n",
    "fig,ax=plt.subplots(figsize=(13,6))\n",
    "plt.xlim(0,195000)\n",
    "\n",
    "plt.barh(index1,XDCy,bar_height,color='#0033CC', label='Debt-related complaints (Dunned Customers)')\n",
    "plt.barh(index1,XDCn,bar_height,color='g', label='Non-debt-related complaints (Dunned Customers)',left=XDCy)\n",
    "plt.barh(index2,XTy,bar_height,color='#0033CC',alpha=0.6,label='Debt-related complaints (Non-dunned customers)')\n",
    "plt.barh(index2,XTn,bar_height,color='g',alpha=0.6, label='Non-debt-related complaints (Non-dunned Customers)',left=XTy)\n",
    "\n",
    "for i in range(len(Y_ticks)-1,6,-1):\n",
    "    plt.text((XTy[i]/2), index1[i]+(bar_height/2)+0.1,  \"%1.1fk\"%(XTy[i]/1000), color='midnightblue', ha='center', va= 'bottom',fontsize=8,fontweight='bold')\n",
    "    plt.text((XDCy[i]/2), index1[i]-(bar_height/2)+0.1,  \"%1.1fk\"%(XDCy[i]/1000), color='w', ha='center', va= 'bottom',fontsize=8,fontweight='bold')\n",
    "for i in range(len(Y_ticks)-1,6,-1):\n",
    "    plt.text((XTn[i])+XTy[i]+1300, index1[i]+(bar_height/2)+0.1,  \"%dk\"%(XTn[i]/1000), color='darkgreen', ha='center', va= 'bottom',fontsize=8,fontweight='bold')\n",
    "    plt.text((XDCn[i])+XDCy[i]+1300, index1[i]-(bar_height/2)+0.1,  \"%dk\"%(XDCn[i]/1000), color='g', ha='center', va= 'bottom',fontsize=8,fontweight='bold')\n",
    "for i in range(6,1,-1):\n",
    "    plt.text((XTy[i]/2), index1[i]+(bar_height/2)+0.1,  \"%dk\"%(XTy[i]/1000), color='midnightblue', ha='center', va= 'bottom',fontsize=8,fontweight='bold')\n",
    "    plt.text((XDCy[i]/2), index1[i]-(bar_height/2)+0.1,  \"%dk\"%(XDCy[i]/1000), color='w', ha='center', va= 'bottom',fontsize=8,fontweight='bold')\n",
    "for i in range(5,4,-1):\n",
    "    plt.text((XTn[i]/2)+XTy[i], index1[i]+(bar_height/2)+0.1,  \"%dk\"%(XTn[i]/1000), color='darkgreen', ha='center', va= 'bottom',fontsize=8,fontweight='bold')\n",
    "    plt.text((XDCn[i]/2)+XDCy[i], index1[i]-(bar_height/2)+0.1,  \"%dk\"%(XDCn[i]/1000), color='w', ha='center', va= 'bottom',fontsize=8,fontweight='bold')\n",
    "for i in range(3,5):\n",
    "    plt.text((XTn[i]/2)+XTy[i]+1500, index1[i]+(bar_height/2)+0.1,  \"%dk\"%(XTn[i]), color='darkgreen', ha='center', va= 'bottom',fontsize=8,fontweight='bold')\n",
    "    plt.text((XDCn[i]/2)+XDCy[i]+1500, index1[i]-(bar_height/2)+0.1,  \"%dk\"%(XDCn[i]), color='g', ha='center', va= 'bottom',fontsize=8,fontweight='bold')\n",
    "plt.text((XTn[6]/2)+XTy[6], index1[6]+(bar_height/2)+0.1,  \"%dk\"%(XTn[6]/1000), color='darkgreen', ha='center', va= 'bottom',fontsize=8,fontweight='bold')\n",
    "plt.text((XDCn[6]/2)+XDCy[6], index1[6]-(bar_height/2)+0.1,  \"%dk\"%(XDCn[6]/1000), color='w', ha='center', va= 'bottom',fontsize=8,fontweight='bold')\n",
    "plt.text((XDCn[2]/2)+XDCy[2], index1[2]-(bar_height/2)+0.1,  \"%dk\"%(XDCn[2]/1000), color='w', ha='center', va= 'bottom',fontsize=8,fontweight='bold')\n",
    "plt.text((XTn[2]/2)+XTy[2], index1[2]+(bar_height/2)+0.1,  \"%dk\"%(XTn[2]/1000), color='darkgreen', ha='center', va= 'bottom',fontsize=8,fontweight='bold')\n",
    "plt.text((XTn[1]/2)+XTy[1]+1300, index1[1]+(bar_height/2)+0.1, \"%dk\"%(XTn[1]), color='darkgreen', ha='center', va= 'bottom',fontsize=8,fontweight='bold')\n",
    "plt.text((XTy[1]/2), index1[1]+(bar_height/2)+0.1,  \"%dk\"%(XTy[1]/1000), color='midnightblue', ha='center', va= 'bottom',fontsize=8,fontweight='bold')\n",
    "plt.text(2500, index1[1]-(bar_height/2)+0.1,  \"%dk\"%(XDCy[1]/1000), color='b', ha='center', va= 'bottom',fontsize=8,fontweight='bold')\n",
    "plt.text((XDCn[1]/2)+XDCy[1]+5000, index1[1]-(bar_height/2)+0.1,  \"%dk\"%(XDCn[1]), color='g', ha='center', va= 'bottom',fontsize=8,fontweight='bold')\n",
    "plt.text((XTn[0])+XTy[0]+5000, index1[0]+(bar_height/2)+0.1,  \"%dk\"%(XTn[0]), color='darkgreen', ha='center', va= 'bottom',fontsize=8,fontweight='bold')\n",
    "plt.text((XDCn[0])+XDCy[0]+5000, index1[0]-(bar_height/2)+0.1,  \"%dk\"%(XDCn[0]), color='g', ha='center', va= 'bottom',fontsize=8,fontweight='bold')\n",
    "plt.text(2500, index1[0]+(bar_height/2)+0.1,  \"%dk\"%(XTy[0]/1000), color='midnightblue', ha='center', va= 'bottom',fontsize=8,fontweight='bold')\n",
    "plt.text(2500, index1[0]-(bar_height/2)+0.1,  \"%dk\"%(XDCy[0]/1000), color='b', ha='center', va= 'bottom',fontsize=8,fontweight='bold')\n",
    "\n",
    "ax.set_title('Analysis of Debt related complaints - Category wise',fontsize=14,fontweight='bold')\n",
    "ax.set_ylabel('Category',fontsize=12,fontweight='bold')\n",
    "ax.set_xlabel('Number of Complaints',fontsize=12,fontweight='bold')\n",
    "\n",
    "ax.set_yticks((index1+index2)/2)\n",
    "ax.set_yticklabels(Y_ticks,fontsize=10)\n",
    "ax.legend()\n",
    "fig.tight_layout()\n",
    "plt.show()"
   ]
  }
 ],
 "metadata": {
  "kernelspec": {
   "display_name": "Python 3",
   "language": "python",
   "name": "python3"
  },
  "language_info": {
   "codemirror_mode": {
    "name": "ipython",
    "version": 3
   },
   "file_extension": ".py",
   "mimetype": "text/x-python",
   "name": "python",
   "nbconvert_exporter": "python",
   "pygments_lexer": "ipython3",
   "version": "3.7.1"
  }
 },
 "nbformat": 4,
 "nbformat_minor": 2
}
