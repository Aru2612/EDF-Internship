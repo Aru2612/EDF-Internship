{
 "cells": [
  {
   "cell_type": "code",
   "execution_count": null,
   "metadata": {},
   "outputs": [],
   "source": [
    "import numpy as np\n",
    "import matplotlib.pyplot as plt\n",
    "import textwrap\n",
    "\n",
    "import warnings \n",
    "warnings.filterwarnings(\"ignore\")"
   ]
  },
  {
   "cell_type": "code",
   "execution_count": null,
   "metadata": {},
   "outputs": [],
   "source": [
    "fig, ax = plt.subplots(1,2,figsize=(9,6), subplot_kw=dict(aspect=\"equal\"))\n",
    "colors=['darkgreen','firebrick','darkred','indigo']\n",
    "labels=['LIVE','TERM_CoS','TERM_CoT','TBOS']\n",
    "labels=[textwrap.fill(text,16) for text in labels]\n",
    "data1=['3185168','1075826','1108482','36610']\n",
    "data2=['600924','145277','196037','1547']\n",
    "\n",
    "wedges,texts,autotexts=ax[0].pie(data1, radius=1, textprops={'fontsize':'10','weight':'bold','ha':'center','va':'center'}, autopct='%1.1f%%', shadow=True, startangle=90,colors=colors)\n",
    "plt.setp(autotexts, size=12,weight=\"bold\", color='w')\n",
    "for w in wedges:\n",
    "  w.set_linewidth(0.1)\n",
    "  w.set_edgecolor('k')\n",
    "\n",
    "wedges,texts,autotexts=ax[1].pie(data2, radius=1, autopct='%1.1f%%',textprops={'fontsize':'10','weight':'bold','ha':'center','va':'center'}, shadow=True, startangle=90,colors=colors)\n",
    "plt.setp(autotexts, size=12,weight=\"bold\",color='w')\n",
    "for w in wedges:\n",
    "  w.set_linewidth(0.1)\n",
    "  w.set_edgecolor('k')\n",
    "\n",
    "ax[0].set_title('Total Dataset',y=-0.003)\n",
    "ax[1].set_title('Dunned Customers only',y=-0.003)\n",
    "\n",
    "ax[1].legend(wedges, labels,\n",
    "              title=\"Legend\",\n",
    "              loc=\"center left\",\n",
    "              bbox_to_anchor=(-0.25,0))\n",
    "\n",
    "fig.suptitle(\"Customer Types - based on current status\",fontsize=15)\n",
    "\n",
    "plt.show()"
   ]
  }
 ],
 "metadata": {
  "kernelspec": {
   "display_name": "Python 3",
   "language": "python",
   "name": "python3"
  },
  "language_info": {
   "codemirror_mode": {
    "name": "ipython",
    "version": 3
   },
   "file_extension": ".py",
   "mimetype": "text/x-python",
   "name": "python",
   "nbconvert_exporter": "python",
   "pygments_lexer": "ipython3",
   "version": "3.7.1"
  }
 },
 "nbformat": 4,
 "nbformat_minor": 2
}
