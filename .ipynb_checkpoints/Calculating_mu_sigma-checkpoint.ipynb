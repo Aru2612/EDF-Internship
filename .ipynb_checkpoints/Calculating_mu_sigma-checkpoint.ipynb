{
 "cells": [
  {
   "cell_type": "code",
   "execution_count": null,
   "metadata": {},
   "outputs": [],
   "source": [
    "import numpy as np\n",
    "import pandas as pd\n",
    "import math\n",
    "import matplotlib\n",
    "import matplotlib.pyplot as plt"
   ]
  },
  {
   "cell_type": "code",
   "execution_count": null,
   "metadata": {},
   "outputs": [],
   "source": [
    "df = pd.read_csv('C:\\\\Users\\\\arund\\\\Desktop\\\\Academic\\\\Internships\\\\EDF\\\\Task 2\\\\Frequency of letters after termination - All.csv',skiprows=1,names=['Number of letters','Weights'])\n",
    "column_headers=df.columns.values.tolist()"
   ]
  },
  {
   "cell_type": "code",
   "execution_count": null,
   "metadata": {},
   "outputs": [],
   "source": [
    "weights=df[column_headers[1]]\n",
    "values=df[column_headers[0]]\n",
    "average = np.average(values, weights=weights)\n",
    "variance = np.average((values-average)**2, weights=weights)\n",
    "std= math.sqrt(variance)\n",
    "print('Mu is:',average)\n",
    "print('Sigma is:',std)"
   ]
  }
 ],
 "metadata": {
  "kernelspec": {
   "display_name": "Python 3",
   "language": "python",
   "name": "python3"
  },
  "language_info": {
   "codemirror_mode": {
    "name": "ipython",
    "version": 3
   },
   "file_extension": ".py",
   "mimetype": "text/x-python",
   "name": "python",
   "nbconvert_exporter": "python",
   "pygments_lexer": "ipython3",
   "version": "3.7.1"
  }
 },
 "nbformat": 4,
 "nbformat_minor": 2
}
