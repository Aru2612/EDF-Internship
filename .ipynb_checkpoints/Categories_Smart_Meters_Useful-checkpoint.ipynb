{
 "cells": [
  {
   "cell_type": "code",
   "execution_count": null,
   "metadata": {},
   "outputs": [],
   "source": [
    "import numpy as np\n",
    "import pandas as pd\n",
    "import matplotlib.pyplot as plt\n",
    "import textwrap\n",
    "\n",
    "import warnings \n",
    "warnings.filterwarnings(\"ignore\")"
   ]
  },
  {
   "cell_type": "code",
   "execution_count": null,
   "metadata": {},
   "outputs": [],
   "source": [
    "df = pd.read_csv('C:\\\\Users\\\\arund\\\\Desktop\\\\Academic\\\\Internships\\\\EDF\\\\Task 1\\\\Smart Meters - Useful.csv',encoding='utf-8')\n",
    "column_headers=df.columns.values.tolist()\n",
    "sorted_df=df.sort_values(by=[column_headers[1]], ascending=False)"
   ]
  },
  {
   "cell_type": "code",
   "execution_count": null,
   "metadata": {},
   "outputs": [],
   "source": [
    "X_ticks=sorted_df[column_headers[0]].values.tolist()\n",
    "X_ticks=[textwrap.fill(text,17) for text in X_ticks]"
   ]
  },
  {
   "cell_type": "code",
   "execution_count": null,
   "metadata": {},
   "outputs": [],
   "source": [
    "Y1=sorted_df[column_headers[1]].values.tolist()\n",
    "Y2=sorted_df[column_headers[2]].values.tolist()\n",
    "Y3=sorted_df[column_headers[3]].values.tolist()"
   ]
  },
  {
   "cell_type": "code",
   "execution_count": null,
   "metadata": {},
   "outputs": [],
   "source": [
    "bar_width=0.5\n",
    "\n",
    "index1 = np.arange(0,len(X_ticks))*1.7\n",
    "index2=index1+bar_width\n",
    "index3=index2+bar_width\n",
    "\n",
    "fig,ax=plt.subplots(tight_layout=True, figsize=(14, 6))\n",
    "\n",
    "plt.bar(index1,Y1,bar_width,color='#8B1A1A',label='Telephone Call')\n",
    "plt.bar(index2,Y2,bar_width,color='#104E8B',label='WEB')\n",
    "plt.bar(index3,Y3,bar_width,color='#555555',label='Others')\n",
    "\n",
    "for i in range(len(Y1)):\n",
    "    plt.text(index1[i], Y1[i] + 0.05, Y1[i], ha='center', va= 'bottom',fontsize=8,fontweight='bold')\n",
    "for i in range(len(Y2)):\n",
    "    plt.text(index2[i], Y2[i] + 0.05, Y2[i], ha='center', va= 'bottom',fontsize=8,fontweight='bold')\n",
    "for i in range(len(Y3)):\n",
    "    plt.text(index3[i], Y3[i] + 0.05, Y3[i], ha='center', va= 'bottom',fontsize=8,fontweight='bold')\n",
    "\n",
    "ax.set_title('Comparison of number of customers who complained under each sub-category in category - Smart Meters (Channelwise)',fontsize=12,fontweight='bold')\n",
    "ax.set_xlabel('Sub-categories',fontsize=12,fontweight='bold')\n",
    "ax.set_ylabel('Number of dunned customers who complained',fontsize=12,fontweight='bold')\n",
    "plt.xticks(rotation='vertical',ha='center',va='top')\n",
    "ax.set_xticks(index2)\n",
    "ax.set_xticklabels(X_ticks,fontsize=9)\n",
    "ax.legend()\n",
    "fig.tight_layout()\n",
    "plt.show()"
   ]
  }
 ],
 "metadata": {
  "kernelspec": {
   "display_name": "Python 3",
   "language": "python",
   "name": "python3"
  },
  "language_info": {
   "codemirror_mode": {
    "name": "ipython",
    "version": 3
   },
   "file_extension": ".py",
   "mimetype": "text/x-python",
   "name": "python",
   "nbconvert_exporter": "python",
   "pygments_lexer": "ipython3",
   "version": "3.7.1"
  }
 },
 "nbformat": 4,
 "nbformat_minor": 2
}
