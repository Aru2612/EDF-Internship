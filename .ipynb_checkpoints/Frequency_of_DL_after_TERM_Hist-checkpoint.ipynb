{
 "cells": [
  {
   "cell_type": "code",
   "execution_count": null,
   "metadata": {},
   "outputs": [],
   "source": [
    "import matplotlib\n",
    "import numpy as np\n",
    "import pandas as pd\n",
    "import matplotlib.pyplot as plt\n",
    "\n",
    "import warnings \n",
    "warnings.filterwarnings(\"ignore\")"
   ]
  },
  {
   "cell_type": "code",
   "execution_count": null,
   "metadata": {},
   "outputs": [],
   "source": [
    "df = pd.read_csv('C:\\\\Users\\\\arund\\\\Desktop\\\\Academic\\\\Internships\\\\EDF\\\\Task 2\\\\Frequency of letters after termination.csv',skiprows=1,names=['BP Number','Number of letters'])\n",
    "column_headers=df.columns.values.tolist()\n",
    "data=df[column_headers[1]]"
   ]
  },
  {
   "cell_type": "code",
   "execution_count": null,
   "metadata": {},
   "outputs": [],
   "source": [
    "xticklabels=('0','1','2','3','4','5','6','7','8','9','10','11','12','13','14','15','16-20','>= 21')"
   ]
  },
  {
   "cell_type": "code",
   "execution_count": null,
   "metadata": {},
   "outputs": [],
   "source": [
    "bar_width=1;\n",
    "mu=3.07\n",
    "sigma=2.45\n",
    "\n",
    "index=df[column_headers[0]]\n",
    "\n",
    "fig, ax = plt.subplots()\n",
    "\n",
    "plt.bar(index,data,bar_width,color='b', edgecolor='k',alpha=0.6)\n",
    "\n",
    "#add texts to the Graph\n",
    "for i in range(0,7):\n",
    "    plt.text(i+1, data[i] + 0.05, \"%dk\"%(data[i]/1000),color='navy', ha='center', va= 'bottom',fontsize=9,fontweight='bold')\n",
    "for i in range(7,12):\n",
    "    plt.text(i+1, data[i] + 0.05, \"%1.1fk\"%(data[i]/1000),color='navy', ha='center', va= 'bottom',fontsize=9,fontweight='bold')\n",
    "for i in range(12,17):\n",
    "    plt.text(i+1, data[i] + 0.05, data[i],color='navy', ha='center', va= 'bottom',fontsize=9,fontweight='bold')\n",
    "\n",
    "ax.set_xlabel('Number of letters')\n",
    "ax.set_ylabel('Frequency (Number of customers)')\n",
    "plt.xticks(np.arange(0,19),xticklabels)\n",
    "ax.set_title('Histogram of dunning letters sent after termination: $\\mu=$%1.2f, $\\sigma=$%1.2f'%(mu,sigma))\n",
    "\n",
    "# Tweak spacing to prevent clipping of ylabel\n",
    "fig.tight_layout()\n",
    "plt.show()"
   ]
  }
 ],
 "metadata": {
  "kernelspec": {
   "display_name": "Python 3",
   "language": "python",
   "name": "python3"
  },
  "language_info": {
   "codemirror_mode": {
    "name": "ipython",
    "version": 3
   },
   "file_extension": ".py",
   "mimetype": "text/x-python",
   "name": "python",
   "nbconvert_exporter": "python",
   "pygments_lexer": "ipython3",
   "version": "3.7.1"
  }
 },
 "nbformat": 4,
 "nbformat_minor": 2
}
