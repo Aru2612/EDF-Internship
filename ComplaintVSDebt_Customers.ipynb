{
 "cells": [
  {
   "cell_type": "code",
   "execution_count": null,
   "metadata": {},
   "outputs": [],
   "source": [
    "import numpy as np\n",
    "import matplotlib.pyplot as plt\n",
    "import textwrap\n",
    "\n",
    "import warnings \n",
    "warnings.filterwarnings(\"ignore\")"
   ]
  },
  {
   "cell_type": "code",
   "execution_count": null,
   "metadata": {},
   "outputs": [],
   "source": [
    "fig, ax = plt.subplots(1,2,figsize=(10,5), subplot_kw=dict(aspect=\"equal\"))\n",
    "colors=['#0033CC','g']\n",
    "labels=['Debt related complaints','Non-debt related complaints']\n",
    "labels=[textwrap.fill(text,16) for text in labels]\n",
    "sum1=['368934','296853']\n",
    "sum2=['128694','71688']\n",
    "\n",
    "wedges,texts,autotexts=ax[0].pie(sum1, labels=labels,labeldistance=1.6,radius=0.75, textprops={'fontsize':'10','weight':'bold','ha':'center','va':'bottom'}, autopct='%1.1f%%', shadow=True, startangle=90,colors=colors)\n",
    "plt.setp(autotexts, size=12,weight=\"bold\", color='w')\n",
    "for w in wedges:\n",
    "    w.set_linewidth(0.1)\n",
    "    w.set_edgecolor('k')\n",
    "wedges,texts,autotexts=ax[1].pie(sum2, labels=labels,labeldistance=1.6,radius=0.75, autopct='%1.1f%%',textprops={'fontsize':'10','weight':'bold','ha':'center','va':'bottom'}, shadow=True, startangle=90,colors=colors)\n",
    "plt.setp(autotexts, size=12,weight=\"bold\",color='w')\n",
    "for w in wedges:\n",
    "    w.set_linewidth(0.1)\n",
    "    w.set_edgecolor('k')\n",
    "\n",
    "note=textwrap.fill(\"*** The categories included in the debt related complaints region include: Billing, Billing/Accounts, Direct Debit, Credit Management, Change of Supply, Homemove, Debt/Disconnection, PPMs, Meter Reading, Contract Renewal\",30)\n",
    "plt.text(-4.2,-1.5, note, ha='center', va= 'bottom',fontsize=8,style='italic')\n",
    "\n",
    "ax[0].set_title('Total Dataset',y=-0.003)\n",
    "ax[1].set_title('Dunned Customers only',y=-0.003)\n",
    "\n",
    "ax[1].legend(wedges, labels,\n",
    "          title=\"Legend\",\n",
    "          loc=\"center left\",\n",
    "          bbox_to_anchor=(-0.4,0))\n",
    "\n",
    "fig.suptitle(\"No: of Customers who Complained vs. Debt\",fontsize=16)\n",
    "plt.show()"
   ]
  }
 ],
 "metadata": {
  "kernelspec": {
   "display_name": "Python 3",
   "language": "python",
   "name": "python3"
  },
  "language_info": {
   "codemirror_mode": {
    "name": "ipython",
    "version": 3
   },
   "file_extension": ".py",
   "mimetype": "text/x-python",
   "name": "python",
   "nbconvert_exporter": "python",
   "pygments_lexer": "ipython3",
   "version": "3.7.0"
  }
 },
 "nbformat": 4,
 "nbformat_minor": 2
}
