{
 "cells": [
  {
   "cell_type": "code",
   "execution_count": null,
   "metadata": {},
   "outputs": [],
   "source": [
    "import numpy as np\n",
    "import pandas as pd\n",
    "import matplotlib.pyplot as plt\n",
    "\n",
    "import warnings \n",
    "warnings.filterwarnings(\"ignore\")"
   ]
  },
  {
   "cell_type": "code",
   "execution_count": null,
   "metadata": {},
   "outputs": [],
   "source": [
    "df1 = pd.read_csv('C:\\\\Users\\\\arund\\\\Desktop\\\\Academic\\\\Internships\\\\EDF\\\\Task 1\\\\Bar Graph 1(Shorter).csv',skiprows=1,names=['Channel','Number of complaints'])\n",
    "column_headers=df1.columns.values.tolist()\n",
    "sorted_df1=df1.sort_values(by=[column_headers[1]], ascending=False)"
   ]
  },
  {
   "cell_type": "code",
   "execution_count": null,
   "metadata": {},
   "outputs": [],
   "source": [
    "df2 = pd.read_csv('C:\\\\Users\\\\arund\\\\Desktop\\\\Academic\\\\Internships\\\\EDF\\\\Task 1\\\\Bar Graph - Channels_DL (Shorter).csv',skiprows=1,names=['Channel','Number of complaints'])\n",
    "sorted_df2=df2.sort_values(by=[column_headers[1]], ascending=False)"
   ]
  },
  {
   "cell_type": "code",
   "execution_count": null,
   "metadata": {},
   "outputs": [],
   "source": [
    "X_ticks=sorted_df1[column_headers[0]].values.tolist()\n",
    "Y1=sorted_df1[column_headers[1]].values.tolist()\n",
    "Y2=sorted_df2[column_headers[1]].values.tolist()\n",
    "index1 = np.arange(len(X_ticks))\n",
    "index2=index1+bar_width\n",
    "bar_width = 0.4\n",
    "\n",
    "fig,ax=plt.subplots()\n",
    "\n",
    "plt.bar(index1,Y1,bar_width,color='b', alpha=0.6,label='Total')\n",
    "plt.bar(index2,Y2,bar_width,color='r', alpha=0.6,label='From Customers who received Dunning Letters')\n",
    "\n",
    "for i in range(len(Y1)):\n",
    "    plt.text(index1[i], Y1[i] + 0.05, Y1[i], ha='center', va= 'bottom',fontsize=10,fontweight='bold')\n",
    "for i in range(len(Y2)):\n",
    "    plt.text(index2[i], Y2[i] + 0.05, Y2[i], ha='center', va= 'bottom',fontsize=10,fontweight='bold')\n",
    "\n",
    "ax.set_title('Comparison of number of complaints received via each channel',fontsize=14,fontweight='bold')\n",
    "ax.set_xlabel('Channels',fontsize=12,fontweight='bold')\n",
    "ax.set_ylabel('Number of Complaints',fontsize=12,fontweight='bold')\n",
    "ax.set_xticks((index1+index2)/2)\n",
    "ax.set_xticklabels(X_ticks,fontsize=11)\n",
    "ax.legend()\n",
    "fig.tight_layout()\n",
    "plt.show()"
   ]
  }
 ],
 "metadata": {
  "kernelspec": {
   "display_name": "Python 3",
   "language": "python",
   "name": "python3"
  },
  "language_info": {
   "codemirror_mode": {
    "name": "ipython",
    "version": 3
   },
   "file_extension": ".py",
   "mimetype": "text/x-python",
   "name": "python",
   "nbconvert_exporter": "python",
   "pygments_lexer": "ipython3",
   "version": "3.7.1"
  }
 },
 "nbformat": 4,
 "nbformat_minor": 2
}
