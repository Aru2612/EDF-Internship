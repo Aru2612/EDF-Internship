{
 "cells": [
  {
   "cell_type": "code",
   "execution_count": null,
   "metadata": {},
   "outputs": [],
   "source": [
    "import numpy as np\n",
    "import matplotlib.pyplot as plt\n",
    "import pandas as pd\n",
    "\n",
    "df = pd.read_csv('C:\\\\Users\\\\arund\\\\Desktop\\\\Academic\\\\Internships\\\\EDF\\\\Task 1\\\\Bar Graph - Channels_DL.csv',skiprows=1,names=['Channel','Number of complaints'])\n",
    "column_headers=df.columns.values.tolist()\n",
    "sorted_df=df.sort_values(by=[column_headers[1]], ascending=False)\n",
    "X_ticks=sorted_df[column_headers[0]].values.tolist()\n",
    "Y=sorted_df[column_headers[1]].values.tolist()\n",
    "\n",
    "bar_width = 0.3\n",
    "index = np.arange(len(X_ticks))\n",
    "\n",
    "fig,ax=plt.subplots()\n",
    "\n",
    "plt.bar(index,Y,color='b', alpha=0.6)\n",
    "for i in range(len(Y)):\n",
    "    plt.text(index[i], Y[i] + 0.05, Y[i], ha='center', va= 'bottom',fontweight='bold')\n",
    "\n",
    "ax.set_title('Number of complaints received via each channel(Customers with DL)',fontsize=12,fontweight='bold')\n",
    "ax.set_xlabel('Channels',fontsize=10,fontweight='bold')\n",
    "ax.set_ylabel('Number of Complaints',fontsize=10,fontweight='bold')\n",
    "ax.set_xticks(index)\n",
    "ax.set_xticklabels(X_ticks,fontsize=6)\n",
    "fig.tight_layout()\n",
    "plt.show()\n"
   ]
  }
 ],
 "metadata": {
  "kernelspec": {
   "display_name": "Python 3",
   "language": "python",
   "name": "python3"
  },
  "language_info": {
   "codemirror_mode": {
    "name": "ipython",
    "version": 3
   },
   "file_extension": ".py",
   "mimetype": "text/x-python",
   "name": "python",
   "nbconvert_exporter": "python",
   "pygments_lexer": "ipython3",
   "version": "3.7.0"
  }
 },
 "nbformat": 4,
 "nbformat_minor": 2
}
